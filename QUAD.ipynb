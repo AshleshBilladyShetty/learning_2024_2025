{
  "nbformat": 4,
  "nbformat_minor": 0,
  "metadata": {
    "colab": {
      "provenance": [],
      "authorship_tag": "ABX9TyOk++6rL2ep/QIZ7Znq+sEc",
      "include_colab_link": true
    },
    "kernelspec": {
      "name": "python3",
      "display_name": "Python 3"
    },
    "language_info": {
      "name": "python"
    }
  },
  "cells": [
    {
      "cell_type": "markdown",
      "metadata": {
        "id": "view-in-github",
        "colab_type": "text"
      },
      "source": [
        "<a href=\"https://colab.research.google.com/github/worldsaverr/learning_2024_2025/blob/main/QUAD.ipynb\" target=\"_parent\"><img src=\"https://colab.research.google.com/assets/colab-badge.svg\" alt=\"Open In Colab\"/></a>"
      ]
    },
    {
      "cell_type": "markdown",
      "source": [
        "# MNF_SLW_Streaks to achieve QUADS\n",
        "\n",
        "Manage Blockers to achieve QUAD goal\n",
        "1.   Media - Document every audio and video consumed. Audiobooks and Active learning videos only.\n",
        "2.   Norp - Daily jalaka only\n",
        "3.   Food - Eat with someone only. Outside food only with friends and while traveling\n",
        "\n",
        "Promote Boosters to achieve Quad Goal\n",
        "1.   Sleep - 7 hours\n",
        "2.   Learn - 6 hours with vipassana focus\n",
        "3.   Walk -  10,000 steps"
      ],
      "metadata": {
        "id": "wU5ctyhLu9Dh"
      }
    },
    {
      "cell_type": "markdown",
      "source": [
        "## Plot Streaks function"
      ],
      "metadata": {
        "id": "RjL1JxwWtyRY"
      }
    },
    {
      "cell_type": "code",
      "source": [
        "%%capture\n",
        "!pip install calplot\n",
        "import pandas as pd\n",
        "import calplot\n",
        "import logging\n",
        "import matplotlib.pyplot as plt\n",
        "def plot_streaks(past_streaks, current_streak):\n",
        "  logging.getLogger('matplotlib.font_manager').setLevel(logging.ERROR)\n",
        "  idx = current_streak.union(past_streaks)\n",
        "  ts = pd.Series([1]* len(idx), index=idx)\n",
        "  calplot.calplot(ts, cmap= 'summer_r',suptitle = 'CurrentStreak:{}'.format(len(current_streak)), colorbar=False)\n",
        "  plt.show()"
      ],
      "metadata": {
        "id": "nCkvuwAYKHi1"
      },
      "execution_count": 9,
      "outputs": []
    },
    {
      "cell_type": "markdown",
      "source": [
        "## Streak Input"
      ],
      "metadata": {
        "id": "hb4r-T2uuArM"
      }
    },
    {
      "cell_type": "code",
      "source": [
        "s1 = pd.date_range(\"2024-06-05\",\"2024-06-19\") # first attempt streak\n",
        "s2 = pd.date_range(\"2024-06-21\",\"2024-06-23\") # second attempt streak\n",
        "past_streaks = s1.union(s2)\n",
        "current_streak = pd.date_range(\"2024-07-09\",\"2024-07-09\") # current attempt at streak\n",
        "\n",
        "plot_streaks(past_streaks, current_streak)"
      ],
      "metadata": {
        "colab": {
          "base_uri": "https://localhost:8080/",
          "height": 197
        },
        "id": "OFK5DnPlsXdO",
        "outputId": "595a2bc5-251c-42fa-ff40-233ad1e529f0"
      },
      "execution_count": 19,
      "outputs": [
        {
          "output_type": "display_data",
          "data": {
            "text/plain": [
              "<Figure size 1000x170 with 1 Axes>"
            ],
            "image/png": "[encoded data removed]"
          },
          "metadata": {}
        }
      ]
    },
    {
      "cell_type": "markdown",
      "source": [
        "July 9, 2024   \n",
        "1. Media ✅:\n",
        "  * Audio book: Amazon Unbound: Jeff Bezos and the Invention of a Global Empire\n",
        "2. Norp ✅:\n",
        "3. Food ✅:\n",
        "  * Breakfast Avocado toast with wife and son.\n",
        "  * Banana milkshake and Nonnies Nonni's THINaddictives Almond Thin Cookies with wife and son\n",
        "\n",
        "1. Sleep ✅: Slept at 1:30 AM and woke up at 8:30 AM\n",
        "2. Learn ✅:\n",
        "  * Nannie was there and could study. Setup colab notebook to document MNF_SLW to achieve QUAD goals\n",
        "3. Walk :\n",
        "\n",
        "\n"
      ],
      "metadata": {
        "id": "_vPZeDQ-qv5C"
      }
    }
  ]
}