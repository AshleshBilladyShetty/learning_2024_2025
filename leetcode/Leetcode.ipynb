{
  "nbformat": 4,
  "nbformat_minor": 0,
  "metadata": {
    "colab": {
      "provenance": [],
      "authorship_tag": "ABX9TyOGGBuFJCatA9+PT8Z7aXtE",
      "include_colab_link": true
    },
    "kernelspec": {
      "name": "python3",
      "display_name": "Python 3"
    },
    "language_info": {
      "name": "python"
    }
  },
  "cells": [
    {
      "cell_type": "markdown",
      "metadata": {
        "id": "view-in-github",
        "colab_type": "text"
      },
      "source": [
        "<a href=\"https://colab.research.google.com/github/AshleshBilladyShetty/learning_2024_2025/blob/main/leetcode/Leetcode.ipynb\" target=\"_parent\"><img src=\"https://colab.research.google.com/assets/colab-badge.svg\" alt=\"Open In Colab\"/></a>"
      ]
    },
    {
      "cell_type": "markdown",
      "source": [
        "# 1. Two Sum https://leetcode.com/problems/two-sum/description/"
      ],
      "metadata": {
        "id": "VueUAYv2y8p_"
      }
    },
    {
      "cell_type": "markdown",
      "source": [
        "## Working with Generative AI (Gemini) from google to help learn syntaxes for list data structure in python while trying to solve Two Sum problem"
      ],
      "metadata": {
        "id": "ylrPAs9zzu_E"
      }
    },
    {
      "cell_type": "code",
      "source": [],
      "metadata": {
        "id": "ECi5jfrY0FIU"
      },
      "execution_count": null,
      "outputs": []
    },
    {
      "cell_type": "code",
      "source": [],
      "metadata": {
        "id": "ms-NByxIzma-"
      },
      "execution_count": null,
      "outputs": []
    },
    {
      "cell_type": "code",
      "source": [
        "# prompt: example of coming out of double  for loop\n",
        "\n",
        "for i in range(5):\n",
        "    for j in range(5):\n",
        "        if j == 2:\n",
        "            break\n",
        "    print(i)\n"
      ],
      "metadata": {
        "id": "HY4J-0u9ugGB"
      },
      "execution_count": null,
      "outputs": []
    },
    {
      "cell_type": "code",
      "execution_count": null,
      "metadata": {
        "id": "G-T0so9Wt3Xw"
      },
      "outputs": [],
      "source": [
        "# prompt: create a list and print the list excluding first element\n",
        "\n",
        "list1 = [1, 2, 3, 4, 5]\n",
        "print(list1[1:])\n"
      ]
    },
    {
      "cell_type": "code",
      "source": [
        "# prompt: how to get index of an element in list\n",
        "\n",
        "list1 = [1, 2, 3, 4, 5]\n",
        "print(list1.index(3))\n"
      ],
      "metadata": {
        "id": "MWB5VmSFvYNq"
      },
      "execution_count": null,
      "outputs": []
    },
    {
      "cell_type": "code",
      "source": [
        "# prompt: how to pass values of index and element in the list in for loop\n",
        "\n",
        "list1 = [1, 2, 3, 4, 5]\n",
        "for index, element in enumerate(list1):\n",
        "  print(f\"Index: {index}, Element: {element}\")\n"
      ],
      "metadata": {
        "colab": {
          "base_uri": "https://localhost:8080/"
        },
        "id": "Ozrmwicwvxb7",
        "outputId": "58a56966-7301-45b7-9c3a-709760f31756"
      },
      "execution_count": 4,
      "outputs": [
        {
          "output_type": "stream",
          "name": "stdout",
          "text": [
            "Index: 0, Element: 1\n",
            "Index: 1, Element: 2\n",
            "Index: 2, Element: 3\n",
            "Index: 3, Element: 4\n",
            "Index: 4, Element: 5\n"
          ]
        }
      ]
    },
    {
      "cell_type": "markdown",
      "source": [
        "## First stab at solution:\n",
        "Runtime: 26.11%, Memoery: 84.25%"
      ],
      "metadata": {
        "id": "ajvij6Jq0Nmp"
      }
    },
    {
      "cell_type": "code",
      "source": [
        "def twoSum(nums, target):\n",
        "    for i_index, i_value in enumerate(nums):\n",
        "        for j_index, j_value in enumerate(nums[i_index+1:]):\n",
        "            if target == i_value + j_value:\n",
        "                return [i_index,i_index+1+j_index]\n",
        "\n",
        "twoSum([2,7,11,15],9)"
      ],
      "metadata": {
        "colab": {
          "base_uri": "https://localhost:8080/"
        },
        "id": "hHXaaDzb0n0t",
        "outputId": "62fab6be-ab39-4750-9b20-a9a33fdd4f40"
      },
      "execution_count": 7,
      "outputs": [
        {
          "output_type": "execute_result",
          "data": {
            "text/plain": [
              "[0, 1]"
            ]
          },
          "metadata": {},
          "execution_count": 7
        }
      ]
    },
    {
      "cell_type": "code",
      "source": [],
      "metadata": {
        "id": "6Iqdr01108Ry"
      },
      "execution_count": null,
      "outputs": []
    },
    {
      "cell_type": "code",
      "source": [],
      "metadata": {
        "id": "r3QFAZ6V0Qjw"
      },
      "execution_count": null,
      "outputs": []
    }
  ]
}