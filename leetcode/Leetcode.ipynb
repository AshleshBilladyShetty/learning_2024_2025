{
  "nbformat": 4,
  "nbformat_minor": 0,
  "metadata": {
    "colab": {
      "provenance": [],
      "include_colab_link": true
    },
    "kernelspec": {
      "name": "python3",
      "display_name": "Python 3"
    },
    "language_info": {
      "name": "python"
    }
  },
  "cells": [
    {
      "cell_type": "markdown",
      "metadata": {
        "id": "view-in-github",
        "colab_type": "text"
      },
      "source": [
        "<a href=\"https://colab.research.google.com/github/AshleshBilladyShetty/learning_2024_2025/blob/main/leetcode/Leetcode.ipynb\" target=\"_parent\"><img src=\"https://colab.research.google.com/assets/colab-badge.svg\" alt=\"Open In Colab\"/></a>"
      ]
    },
    {
      "cell_type": "code",
      "source": [],
      "metadata": {
        "id": "2WZavXSvfOEf"
      },
      "execution_count": null,
      "outputs": []
    },
    {
      "cell_type": "markdown",
      "source": [
        "# Grind 75 https://www.techinterviewhandbook.org/coding-interview-study-plan/"
      ],
      "metadata": {
        "id": "XuE8_U8GfRz7"
      }
    },
    {
      "cell_type": "markdown",
      "source": [
        "# 1. Two Sum https://leetcode.com/problems/two-sum/description/"
      ],
      "metadata": {
        "id": "VueUAYv2y8p_"
      }
    },
    {
      "cell_type": "markdown",
      "source": [
        "## Working with Generative AI (Gemini) from google to help learn syntaxes for list data structure in python while trying to solve Two Sum problem"
      ],
      "metadata": {
        "id": "ylrPAs9zzu_E"
      }
    },
    {
      "cell_type": "code",
      "source": [],
      "metadata": {
        "id": "ECi5jfrY0FIU"
      },
      "execution_count": null,
      "outputs": []
    },
    {
      "cell_type": "code",
      "source": [],
      "metadata": {
        "id": "ms-NByxIzma-"
      },
      "execution_count": null,
      "outputs": []
    },
    {
      "cell_type": "code",
      "source": [
        "# prompt: example of coming out of double  for loop\n",
        "\n",
        "for i in range(5):\n",
        "    for j in range(5):\n",
        "        if j == 2:\n",
        "            break\n",
        "    print(i)\n"
      ],
      "metadata": {
        "id": "HY4J-0u9ugGB"
      },
      "execution_count": null,
      "outputs": []
    },
    {
      "cell_type": "code",
      "execution_count": null,
      "metadata": {
        "id": "G-T0so9Wt3Xw"
      },
      "outputs": [],
      "source": [
        "# prompt: create a list and print the list excluding first element\n",
        "\n",
        "list1 = [1, 2, 3, 4, 5]\n",
        "print(list1[1:])\n"
      ]
    },
    {
      "cell_type": "code",
      "source": [
        "# prompt: how to get index of an element in list\n",
        "\n",
        "list1 = [1, 2, 3, 4, 5]\n",
        "print(list1.index(3))\n"
      ],
      "metadata": {
        "id": "MWB5VmSFvYNq"
      },
      "execution_count": null,
      "outputs": []
    },
    {
      "cell_type": "code",
      "source": [
        "# prompt: how to pass values of index and element in the list in for loop\n",
        "\n",
        "list1 = [1, 2, 3, 4, 5]\n",
        "for index, element in enumerate(list1):\n",
        "  print(f\"Index: {index}, Element: {element}\")\n"
      ],
      "metadata": {
        "colab": {
          "base_uri": "https://localhost:8080/"
        },
        "id": "Ozrmwicwvxb7",
        "outputId": "58a56966-7301-45b7-9c3a-709760f31756"
      },
      "execution_count": null,
      "outputs": [
        {
          "output_type": "stream",
          "name": "stdout",
          "text": [
            "Index: 0, Element: 1\n",
            "Index: 1, Element: 2\n",
            "Index: 2, Element: 3\n",
            "Index: 3, Element: 4\n",
            "Index: 4, Element: 5\n"
          ]
        }
      ]
    },
    {
      "cell_type": "markdown",
      "source": [
        "## First stab at solution:\n",
        "Runtime: 26.11%, Memoery: 84.25%"
      ],
      "metadata": {
        "id": "ajvij6Jq0Nmp"
      }
    },
    {
      "cell_type": "code",
      "source": [
        "def twoSum(nums, target):\n",
        "    for i_index, i_value in enumerate(nums):\n",
        "        for j_index, j_value in enumerate(nums[i_index+1:]):\n",
        "            if target == i_value + j_value:\n",
        "                return [i_index,i_index+1+j_index]\n",
        "\n",
        "twoSum([2,7,11,15],9)"
      ],
      "metadata": {
        "colab": {
          "base_uri": "https://localhost:8080/"
        },
        "id": "hHXaaDzb0n0t",
        "outputId": "62fab6be-ab39-4750-9b20-a9a33fdd4f40"
      },
      "execution_count": null,
      "outputs": [
        {
          "output_type": "execute_result",
          "data": {
            "text/plain": [
              "[0, 1]"
            ]
          },
          "metadata": {},
          "execution_count": 7
        }
      ]
    },
    {
      "cell_type": "markdown",
      "source": [
        "## GenAI work to get better solution"
      ],
      "metadata": {
        "id": "rQ5XAhVhM6tV"
      }
    },
    {
      "cell_type": "code",
      "source": [
        "# prompt: convert list to hasmap\n",
        "nums = [2,2,11,15]\n",
        "hash_map = {}\n",
        "for i, num in enumerate(nums):\n",
        "    hash_map[i] = num\n",
        "print(hash_map)"
      ],
      "metadata": {
        "colab": {
          "base_uri": "https://localhost:8080/"
        },
        "id": "7hYg4izbNME4",
        "outputId": "2aaf308e-59bb-4714-fe3e-521bd035cc33"
      },
      "execution_count": null,
      "outputs": [
        {
          "output_type": "stream",
          "name": "stdout",
          "text": [
            "{0: 2, 1: 2, 2: 11, 3: 15}\n"
          ]
        }
      ]
    },
    {
      "cell_type": "code",
      "source": [
        "# prompt: How to search within a dictionary\n",
        "\n",
        "# Check if a key exists in the dictionary\n",
        "if \"key\" in hash_map:\n",
        "  # Key exists, do something with the value\n",
        "  value = hash_map[\"key\"]\n",
        "\n",
        "# Get the value associated with a key, or None if the key is not present\n",
        "value = hash_map.get(\"key\", None)\n",
        "\n",
        "# Iterate through all keys and values in the dictionary\n",
        "for key, value in hash_map.items():\n",
        "  # Do something with the key and value\n",
        "\n",
        "# Search for a specific value in the dictionary\n",
        "for value in hash_map.values():\n",
        "  if value == \"target_value\":\n",
        "    # Value found, do something\n",
        "\n",
        "# Search for a specific key in the dictionary\n",
        "for key in hash_map.keys():\n",
        "  if key == \"target_key\":\n",
        "    # Key found, do something\n"
      ],
      "metadata": {
        "id": "h5KKSclnN4B_"
      },
      "execution_count": null,
      "outputs": []
    },
    {
      "cell_type": "code",
      "source": [
        "# prompt: add item to a dictionary\n",
        "\n",
        "my_dict = {}\n",
        "\n",
        "# Add a key-value pair to the dictionary\n",
        "my_dict[\"key\"] = \"value\"\n",
        "\n",
        "# Add multiple key-value pairs to the dictionary\n",
        "my_dict.update({\"key1\": \"value1\", \"key2\": \"value2\"})\n",
        "\n",
        "# Add a key-value pair to the dictionary if the key does not already exist\n",
        "my_dict.setdefault(\"key3\", \"value3\")\n"
      ],
      "metadata": {
        "id": "eLUBcUD1wWiY"
      },
      "execution_count": null,
      "outputs": []
    },
    {
      "cell_type": "code",
      "source": [
        "list = [23,454,1,23,32]\n",
        "\n",
        "dic = {}\n",
        "\n",
        "for i, v in enumerate(list):\n",
        "  dic.setdefault(v, []).append(i)\n",
        "\n",
        "print(dic)\n"
      ],
      "metadata": {
        "colab": {
          "base_uri": "https://localhost:8080/"
        },
        "id": "tbifTkkkByBQ",
        "outputId": "d1b06ae7-97d4-4aa2-cae8-1daa901ef4ba"
      },
      "execution_count": null,
      "outputs": [
        {
          "output_type": "stream",
          "name": "stdout",
          "text": [
            "{23: [0, 3], 454: [1], 1: [2], 32: [4]}\n"
          ]
        }
      ]
    },
    {
      "cell_type": "code",
      "source": [
        "dic[32].remove(4)\n",
        "if len(dic[32]) == 0:\n",
        "  del dic[32]\n",
        "print(dic)\n",
        "\n",
        "# len([])\n",
        "# dic1[32]\n",
        "# print(dic[32])"
      ],
      "metadata": {
        "colab": {
          "base_uri": "https://localhost:8080/"
        },
        "id": "MiaEDor2Sbmq",
        "outputId": "d3a90764-5232-4c8e-fe1f-7dc861d06724"
      },
      "execution_count": null,
      "outputs": [
        {
          "output_type": "stream",
          "name": "stdout",
          "text": [
            "{23: [0, 3], 454: [1], 1: [2]}\n"
          ]
        }
      ]
    },
    {
      "cell_type": "code",
      "source": [
        "if dic.get(23, None):\n",
        "  print(\"yes\")\n",
        "else:\n",
        "  print(\"no\")"
      ],
      "metadata": {
        "colab": {
          "base_uri": "https://localhost:8080/"
        },
        "id": "X_gIlW6IZHFv",
        "outputId": "42b6152c-9b8d-4e1d-adfa-a9055943295d"
      },
      "execution_count": null,
      "outputs": [
        {
          "output_type": "stream",
          "name": "stdout",
          "text": [
            "yes\n"
          ]
        }
      ]
    },
    {
      "cell_type": "code",
      "source": [
        "# prompt: remove a specific value under a key in dictionary\n",
        "\n",
        "my_dict = {'key': ['value1', 'value2', 'value3']}\n",
        "\n",
        "# Remove the value 'value2' from the list under the key 'key'\n",
        "my_dict['key'].remove('value2')\n",
        "\n",
        "# Print the updated dictionary\n",
        "print(my_dict)\n"
      ],
      "metadata": {
        "id": "v1WPWCz3Qi5J"
      },
      "execution_count": null,
      "outputs": []
    },
    {
      "cell_type": "markdown",
      "source": [
        "## Second stab at solution:\n",
        "After taking hints provided on leetcode  \n",
        "* Runtime: Beats 81.25% of the users with python3  \n",
        "* Memory: beats 6.40% of the users with python3  \n",
        "\n",
        "\n"
      ],
      "metadata": {
        "id": "Ty3pnC5icEWL"
      }
    },
    {
      "cell_type": "code",
      "source": [
        "def twoSum(nums, target):\n",
        "    dic = {}\n",
        "    for i_index, i_value in enumerate(nums):\n",
        "        dic.setdefault(i_value,[]).append(i_index)\n",
        "\n",
        "    for i_index, i_value in enumerate(nums):\n",
        "        dic[i_value].remove(i_index)\n",
        "        if len(dic[i_value]) == 0:\n",
        "            del dic[i_value]\n",
        "        s_value = target - i_value\n",
        "\n",
        "        if dic.get(s_value, None):\n",
        "            return [i_index, dic[s_value][0] ]\n",
        "\n",
        "twoSum([2,7,11,15],9)"
      ],
      "metadata": {
        "colab": {
          "base_uri": "https://localhost:8080/"
        },
        "id": "5ul-6M59cGPy",
        "outputId": "f845b43e-456e-48a3-e5df-54c2556fece1"
      },
      "execution_count": null,
      "outputs": [
        {
          "output_type": "execute_result",
          "data": {
            "text/plain": [
              "[0, 1]"
            ]
          },
          "metadata": {},
          "execution_count": 61
        }
      ]
    },
    {
      "cell_type": "markdown",
      "source": [
        "## Third stab at solution:\n",
        "Implementing based on solution idea suggested by LC editorial\n",
        "* Runtime: Beats 73.20% of the users with python3  \n",
        "* Memory: beats 41.39% of the users with python3  "
      ],
      "metadata": {
        "id": "OxvvW9N-tU3x"
      }
    },
    {
      "cell_type": "code",
      "source": [
        "def twoSum(nums, target):\n",
        "    dic = {}\n",
        "    for i_index, i_value in enumerate(nums):\n",
        "        s_value = target - i_value\n",
        "        if s_value in dic:\n",
        "          return [i_index,dic[s_value]]\n",
        "          break\n",
        "        dic.setdefault(i_value,i_index)\n",
        "\n",
        "twoSum([2,7,11,15],9)"
      ],
      "metadata": {
        "colab": {
          "base_uri": "https://localhost:8080/"
        },
        "id": "t2pGDMmvts6b",
        "outputId": "a9efdaf7-d6fd-4a1d-ba42-181518a99063"
      },
      "execution_count": null,
      "outputs": [
        {
          "output_type": "execute_result",
          "data": {
            "text/plain": [
              "[1, 0]"
            ]
          },
          "metadata": {},
          "execution_count": 26
        }
      ]
    },
    {
      "cell_type": "code",
      "source": [
        "dic = {3: 0,2:1}\n",
        "s_value = 2\n",
        "if dic.get(s_value,None):\n",
        "  print(\"yes\")\n",
        "# dic.get(s_value,None)"
      ],
      "metadata": {
        "colab": {
          "base_uri": "https://localhost:8080/"
        },
        "id": "xBbvQBCV1Nvg",
        "outputId": "d33a0c23-71fd-480c-efdf-78f79c4cca92"
      },
      "execution_count": null,
      "outputs": [
        {
          "output_type": "stream",
          "name": "stdout",
          "text": [
            "yes\n"
          ]
        }
      ]
    },
    {
      "cell_type": "markdown",
      "source": [
        "# 19. Valid Parentheses https://leetcode.com/problems/valid-parentheses/description/"
      ],
      "metadata": {
        "id": "7VUyYAosgI43"
      }
    },
    {
      "cell_type": "markdown",
      "source": [
        "## First stab at solution"
      ],
      "metadata": {
        "id": "gGTmG4Fg9bu7"
      }
    },
    {
      "cell_type": "code",
      "source": [
        "## Attempt 1 : Not Successfull:\n",
        "s = \"()[]{}\"\n",
        "# for i,v in enumerate(s):\n",
        "#   print(i,v)\n",
        "dic = {'{':'}','[':']','(':')'}\n",
        "\n",
        "def valid_parentheses(s):\n",
        "        dic = {'{':'}','[':']','(':')'}\n",
        "        if len(s)%2 ==0:\n",
        "            times = len(s)/2\n",
        "            bracket_open_index_list = []\n",
        "            bracket_close_index_list = []\n",
        "            for i, v in enumerate(s):\n",
        "                if dic.get(v, None ) is not None:\n",
        "                    bracket_open_index_list.append(i)\n",
        "\n",
        "            for i in bracket_open_index_list:\n",
        "                for j in range(i+1,len(s)):\n",
        "                    if dic[s[i]] == s[j]:\n",
        "                        bracket_close_index_list.append(j)\n",
        "                        times = times - 1\n",
        "            print(bracket_open_index_list, bracket_close_index_list)\n",
        "            dic2 = dict(zip(bracket_open_index_list, bracket_close_index_list))\n",
        "            print(dic2)\n",
        "\n",
        "            # for i in bracket_open_index_list:\n",
        "            #   for key2 in del dic2(key1)\n",
        "            #   if dic2[key]\n",
        "\n",
        "            if times == 0:\n",
        "                return True\n",
        "            else:\n",
        "                return False\n",
        "\n",
        "valid_parentheses(s)"
      ],
      "metadata": {
        "id": "hZ2Exzr9f8Dn",
        "outputId": "7e31fd57-ce0f-4eaa-c600-8d8582917bd5",
        "colab": {
          "base_uri": "https://localhost:8080/"
        }
      },
      "execution_count": 5,
      "outputs": [
        {
          "output_type": "stream",
          "name": "stdout",
          "text": [
            "[0, 2, 4] [1, 3, 5]\n",
            "{0: 1, 2: 3, 4: 5}\n"
          ]
        },
        {
          "output_type": "execute_result",
          "data": {
            "text/plain": [
              "True"
            ]
          },
          "metadata": {},
          "execution_count": 5
        }
      ]
    },
    {
      "cell_type": "code",
      "source": [
        "## Attempt 2 : Few days after attempt 1\n",
        "s = \"()))\"\n",
        "# dic = {'{':'}','[':']','(':')'}\n",
        "\n",
        "def valid_parentheses(s):\n",
        "        s1 = []\n",
        "        dic_brack = {'{':'}','[':']','(':')'}\n",
        "        if len(s)%2 ==0 and s[0] in (\"(\",\"{\",\"[\"):\n",
        "            for i in s:\n",
        "                if i in dic_brack:\n",
        "                    s1.append(i)\n",
        "\n",
        "                if i not in  dic_brack:\n",
        "                    if len(s1) > 0 and dic_brack[s1[-1]] == i:\n",
        "                        del s1[-1]\n",
        "                    else:\n",
        "                        return False\n",
        "\n",
        "            if len(s1) == 0:\n",
        "                return True\n",
        "            else:\n",
        "                return False\n",
        "        else:\n",
        "            return False\n",
        "\n",
        "valid_parentheses(s)"
      ],
      "metadata": {
        "colab": {
          "base_uri": "https://localhost:8080/"
        },
        "id": "bk8mwfMCuvn7",
        "outputId": "b90a41e6-8f94-4708-fdda-76d05bbc8113"
      },
      "execution_count": 7,
      "outputs": [
        {
          "output_type": "execute_result",
          "data": {
            "text/plain": [
              "False"
            ]
          },
          "metadata": {},
          "execution_count": 7
        }
      ]
    }
  ]
}