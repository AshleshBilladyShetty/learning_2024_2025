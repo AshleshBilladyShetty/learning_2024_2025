{
  "nbformat": 4,
  "nbformat_minor": 0,
  "metadata": {
    "colab": {
      "provenance": [],
      "authorship_tag": "ABX9TyO/IdMClReHOldMU7peohKg",
      "include_colab_link": true
    },
    "kernelspec": {
      "name": "python3",
      "display_name": "Python 3"
    },
    "language_info": {
      "name": "python"
    }
  },
  "cells": [
    {
      "cell_type": "markdown",
      "metadata": {
        "id": "view-in-github",
        "colab_type": "text"
      },
      "source": [
        "<a href=\"https://colab.research.google.com/github/worldsaverr/learning_2024_2025/blob/main/QUAD_2024.ipynb\" target=\"_parent\"><img src=\"https://colab.research.google.com/assets/colab-badge.svg\" alt=\"Open In Colab\"/></a>"
      ]
    },
    {
      "cell_type": "markdown",
      "source": [
        "# MNF_SLW_Streaks to achieve QUADS\n",
        "\n",
        "Manage Blockers to achieve QUAD goal\n",
        "1.   Media - Document every audio and video consumed.\n",
        "  * Audiobooks\n",
        "  *Active learning videos only.\n",
        "  * Media forwarded by friends and family\n",
        "2.   Norp - Daily jalaka only\n",
        "3.   Food - Eat with someone only. Outside food only with friends and while traveling\n",
        "\n",
        "Promote Boosters to achieve Quad Goal\n",
        "1.   Sleep - 7 hours\n",
        "2.   Learn - 6 hours with vipassana focus\n",
        "3.   Walk -  10,000 steps"
      ],
      "metadata": {
        "id": "wU5ctyhLu9Dh"
      }
    },
    {
      "cell_type": "markdown",
      "source": [
        "## Plot Streaks function"
      ],
      "metadata": {
        "id": "RjL1JxwWtyRY"
      }
    },
    {
      "cell_type": "code",
      "source": [
        "%%capture\n",
        "!pip install calplot\n",
        "import pandas as pd\n",
        "import calplot\n",
        "import logging\n",
        "import matplotlib.pyplot as plt\n",
        "def plot_streaks(past_streaks, current_streak):\n",
        "  logging.getLogger('matplotlib.font_manager').setLevel(logging.ERROR)\n",
        "  idx = current_streak.union(past_streaks)\n",
        "  ts = pd.Series([1]* len(idx), index=idx)\n",
        "  calplot.calplot(ts, cmap= 'summer_r',suptitle = 'CurrentStreak:{}'.format(len(current_streak)), colorbar=False)\n",
        "  plt.show()"
      ],
      "metadata": {
        "id": "nCkvuwAYKHi1"
      },
      "execution_count": 1,
      "outputs": []
    },
    {
      "cell_type": "markdown",
      "source": [
        "## Streak Input"
      ],
      "metadata": {
        "id": "hb4r-T2uuArM"
      }
    },
    {
      "cell_type": "code",
      "source": [
        "s1 = pd.date_range(\"2024-06-05\",\"2024-06-19\") # first attempt streak\n",
        "s2 = pd.date_range(\"2024-06-21\",\"2024-06-23\") # second attempt streak\n",
        "s3 = pd.date_range(\"2024-07-09\",\"2024-07-09\")\n",
        "past_streaks = s1.union(s2).union(s3)\n",
        "current_streak = pd.date_range(\"2024-07-11\",\"2024-07-12\") # current attempt at streak\n",
        "\n",
        "plot_streaks(past_streaks, current_streak)"
      ],
      "metadata": {
        "colab": {
          "base_uri": "https://localhost:8080/",
          "height": 197
        },
        "id": "OFK5DnPlsXdO",
        "outputId": "993fb903-feda-4bd4-acd2-1ec9af1d89ba"
      },
      "execution_count": 3,
      "outputs": [
        {
          "output_type": "display_data",
          "data": {
            "text/plain": [
              "<Figure size 1000x170 with 1 Axes>"
            ],
            "image/png": "[encoded data removed]"
          },
          "metadata": {}
        }
      ]
    },
    {
      "cell_type": "markdown",
      "source": [
        "**July 12, 2024**\n",
        "1. Media ✅:\n",
        "  * Audiobook: How Google Works Book by Eric Schmidt and Jonathan Rosenberg\n",
        "  * Duolingo: Chinese and Spanish\n",
        "  * Saw few videos on Amazon to by walker and head fall protector for Rishiv\n",
        "  * [Saw Full All In Episode 187 ](https://www.youtube.com/watch?v=w30WLkNU47g&ab_channel=All-InPodcast)\n",
        "  * Saw frist few minutes of [All In Interview](https://www.youtube.com/watch?v=-l2TdinWoM8&ab_channel=All-InPodcast)\n",
        "2. Norp :\n",
        "3. Food ✅:\n",
        "  * Breakfast: Tea, Avocado toast with wife and son.\n",
        "  * Dinner with Ranjita and Son: Dal, egg fried rice, curd, sauce, dry nuts, coconut water, tea and ground nut\n",
        "\n",
        "___\n",
        "1. Sleep ✅:\n",
        "  * Slept at 3 AM and woke up at 9 AM.\n",
        "  * Took 15 minute nap from 10:30 AM to 10L45 AM\n",
        "2. Learn ✅:\n",
        "  * Did 4 hours in office and 2 hors at home\n",
        "3. Walk ✅: Walked more than 12K today"
      ],
      "metadata": {
        "id": "CX04F9q6eZG4"
      }
    },
    {
      "cell_type": "markdown",
      "source": [
        "**July 11, 2024**\n",
        "1. Media ✅:\n",
        "  * Audiobook: Started: How Google Works Book by Eric Schmidt and Jonathan Rosenberg\n",
        "  * Duolingo: Chinese and Spanish\n",
        "2. Norp ✅: Took bath late at 2:30 AM .|.\n",
        "3. Food ✅:\n",
        "  * Breakfast Avocado toast with wife and son.\n",
        "  * 1PM lunch: customized Dindigal's mutton sukha, curd and boiled rice\n",
        "  * 6PM Maggi and jeera coffee\n",
        "  * 10:30 PM Dinner: Shezwan fried rice, curd and boiled rice\n",
        "___\n",
        "1. Sleep ✅: Slept at 1 AM and woke up at 9 AM\n",
        "2. Learn ✅: Struggled to sit but completed 6 hours by 2:30 AM\n",
        "  * completed working on year end summary form summarizing my work at company\n",
        "3. Walk ✅: Night 9:30 PM"
      ],
      "metadata": {
        "id": "FmAEVPPoQAl0"
      }
    },
    {
      "cell_type": "markdown",
      "source": [
        "**July 10, 2024**\n",
        "1. Media ✅:\n",
        "  * Audio book: Completed: Amazon Unbound: Jeff Bezos and the Invention of a Global Empire\n",
        "  * Audiobook: Started: Einstein: His Life and Universe by Walter Isaacson\n",
        "  * Duolingo: Chinese and Spanish\n",
        "2. Norp ✅: Took bath late in the evening 8AM after birthday celebration .|.\n",
        "3. Food ✅:\n",
        "  * Breakfast Avocado toast with wife and son.\n",
        "  * 5PM lunch potatoe and asparagus fry and boiled rice curd. Ate with wife and son\n",
        "  * 9:30 PM Dinner: Wife's birthday ordered from outside. Chicken lollypop, Shezwan fried rice, boiled rice curd and mutton sukha\n",
        "___\n",
        "1. Sleep ✅: Slept at 3:00 AM and woke up at 10:00 AM\n",
        "2. Learn 🟠:\n",
        "  * working on year end summary form summarizing my work at company\n",
        "3. Walk ✅: Walked 12PM when the baby was sleeping\n",
        "\n",
        "\n",
        "\n",
        "\n",
        "\n",
        "\n",
        "\n",
        "\n"
      ],
      "metadata": {
        "id": "P9X8z6uLSj-s"
      }
    },
    {
      "cell_type": "markdown",
      "source": [
        "**July 9, 2024**\n",
        "1. Media ✅:\n",
        "  * Audio book: Amazon Unbound: Jeff Bezos and the Invention of a Global Empire\n",
        "  * YT: Akyan: One handed ✋🏻 shoe 👟 lace tying on Youtube\n",
        "  * Duolingo: Chinese and Spanish\n",
        "2. Norp ✅: Took bath late in the night 2AM after birthday celebration .|.\n",
        "3. Food ✅:\n",
        "  * Breakfast Avocado toast with wife and son.\n",
        "  * Banana Dates milkshake and Nonnies Nonni's THINaddictives Almond Thin Cookies with wife and son.\n",
        "  * Dinner: Chicken sukha, Egg Burji, Beans Mushroom, Boiled Rice, Curd, Mint chutney with wife and son. Dates with cashew and almond inside\n",
        "  * Celebrated Wife's birthday, midnight cake cutting and pringles\n",
        "___\n",
        "1. Sleep ✅: Slept at 1:30 AM and woke up at 8:30 AM\n",
        "2. Learn ✅:\n",
        "  * Nannie was there and could study. Setup colab notebook to document MNF_SLW to achieve QUAD goals\n",
        "3. Walk ✅: Evening walk before dinner\n",
        "\n",
        "\n"
      ],
      "metadata": {
        "id": "_vPZeDQ-qv5C"
      }
    }
  ]
}