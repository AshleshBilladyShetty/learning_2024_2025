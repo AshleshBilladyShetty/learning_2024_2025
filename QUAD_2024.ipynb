{
  "nbformat": 4,
  "nbformat_minor": 0,
  "metadata": {
    "colab": {
      "provenance": [],
      "collapsed_sections": [
        "RjL1JxwWtyRY"
      ],
      "authorship_tag": "ABX9TyOpm7dbfhhiB5Nn0e7vaiW3",
      "include_colab_link": true
    },
    "kernelspec": {
      "name": "python3",
      "display_name": "Python 3"
    },
    "language_info": {
      "name": "python"
    }
  },
  "cells": [
    {
      "cell_type": "markdown",
      "metadata": {
        "id": "view-in-github",
        "colab_type": "text"
      },
      "source": [
        "<a href=\"https://colab.research.google.com/github/worldsaverr/learning_2024_2025/blob/main/QUAD_2024.ipynb\" target=\"_parent\"><img src=\"https://colab.research.google.com/assets/colab-badge.svg\" alt=\"Open In Colab\"/></a>"
      ]
    },
    {
      "cell_type": "markdown",
      "source": [
        "# SLWNFM_Streaks to achieve QUADS\n",
        "\n",
        "1. Sleep - 7 hours without any gadget except iwatch. Biased towards sleep early get up early 9:30 PM to 4:30 AM\n",
        "2. Learn - 6 hours with vipassana focus. Onl Water and home made hot beverages allowed.\n",
        "3. Walk - After Learn. 10,000 steps.\n",
        "4. Norp - After Walk. Daily jalaka only\n",
        "5. Food - After Walk.\n",
        "  * Biased towards Organic WholeFood, Fruits & Vegetables, HomeCooked,\n",
        "  * 3 litres of water, No processed food, Restaurant food only with friends and while traveling\n",
        "  * Biased towards OMAD. Max three eating sessions in a day.\n",
        "  * Biased towards having food with someone, worst case with Media following the guidelines\n",
        "6. Media - After Learn. Document every audio and video consumed.\n",
        "  * Audiobooks, Active learning Videos, and Media forwarded by friends and family\n"
      ],
      "metadata": {
        "id": "wU5ctyhLu9Dh"
      }
    },
    {
      "cell_type": "markdown",
      "source": [
        "## Plot Streaks function"
      ],
      "metadata": {
        "id": "RjL1JxwWtyRY"
      }
    },
    {
      "cell_type": "code",
      "source": [
        "%%capture\n",
        "!pip install calplot\n",
        "import pandas as pd\n",
        "import calplot\n",
        "import logging\n",
        "import matplotlib.pyplot as plt\n",
        "from time import strptime\n",
        "from datetime import date\n",
        "\n",
        "def streaks_func(dates_dict):\n",
        "  def get_date_list(dates_dict):\n",
        "    date_list = []\n",
        "    for year, months_of_the_year in dates_dict.items():\n",
        "        for month, dates_list in months_of_the_year.items():\n",
        "            month_no = strptime(month.title(), '%b').tm_mon\n",
        "            for items in dates_list:\n",
        "              if items.isdigit():\n",
        "                date_list.append(date(year, month_no, int(items)))\n",
        "              else:\n",
        "                latest_streak_len = 0\n",
        "                for dt in range(int(items.split(\"-\")[0]), int(items.split(\"-\")[1])+1):\n",
        "                  latest_streak_len += 1\n",
        "                  date_list.append(date(year, month_no, dt))\n",
        "    return date_list, latest_streak_len\n",
        "\n",
        "  date_list, latest_streak_len = get_date_list(dates_dict)\n",
        "\n",
        "  def plot_streaks(date_list, latest_streak_len):\n",
        "    logging.getLogger('matplotlib.font_manager').setLevel(logging.ERROR)\n",
        "    idx = pd.Series(date_list, dtype='datetime64[ns]')\n",
        "    ts = pd.Series([1]* len(idx), index=idx)\n",
        "    calplot.calplot(ts, cmap= 'summer_r',suptitle = 'LastStreakMoreThanADay:{}'.format(latest_streak_len), colorbar=False)\n",
        "    return plt.show()\n",
        "\n",
        "  plot_streaks(date_list, latest_streak_len)"
      ],
      "metadata": {
        "id": "nCkvuwAYKHi1"
      },
      "execution_count": null,
      "outputs": []
    },
    {
      "cell_type": "markdown",
      "source": [
        "## Streak Input"
      ],
      "metadata": {
        "id": "hb4r-T2uuArM"
      }
    },
    {
      "cell_type": "code",
      "source": [
        "dates_dict = {\n",
        "    2024: {\n",
        "        'Jun': [ \"5-19\", \"21-23\"],\n",
        "        'Jul': [\"9\", \"11-12\"]\n",
        "    }\n",
        "}\n",
        "streaks_func(dates_dict)"
      ],
      "metadata": {
        "colab": {
          "base_uri": "https://localhost:8080/",
          "height": 197
        },
        "id": "Mf_o1ej0PH56",
        "outputId": "d5e0545e-fba1-46b1-e417-cc39718124c6"
      },
      "execution_count": null,
      "outputs": [
        {
          "output_type": "display_data",
          "data": {
            "text/plain": [
              "<Figure size 1000x170 with 1 Axes>"
            ],
            "image/png": "[encoded data removed]"
          },
          "metadata": {}
        }
      ]
    },
    {
      "cell_type": "markdown",
      "source": [
        "**Jul 18, 2024**\n",
        "1. Sleep ✅: Slept for 7 hours inspite of the bad start due to bad previous day of junk food, watched random videos, didn't compelte the streak, took phone to bed watching youtube. But after sleeping at around 2:30 AM woke up at 10 AM so slepth for approx 7 hours\n",
        "2. Learn 🟠:\n",
        "  * First hour when son was sleeping from 3pm to 4pm: Based on the failures to do a streak more than 2 days. From the learnings of failure did an intervention to fix the strategy for sure success going forward.\n",
        "  *\n",
        "3. Walk :\n",
        "4. Norp :\n",
        "5. Food :\n",
        "6. Media :\n"
      ],
      "metadata": {
        "id": "VYuNulK5FXsq"
      }
    },
    {
      "cell_type": "markdown",
      "source": [
        "**Intervention**  \n",
        "Observation on why I'm not able to do a streak for not more than two days:\n",
        "1. Thought of sleep early and getup early approach. but seems like with having job as knowledge worker having a strict schedule to go to bed and get up is almost impossible. Blockers like I'm not done with one of the day goals before the beginning of scheduled sleep time, some days you go out with friends and come home late, your wife has a hectic office week and she comes home really late pushing all your schedule out of the window causing lot of argument etc. So way too many problems to have a fixed sleeping schedule especially sleep early and get up early. So need to have a stratergy that is more flexible and addresses all the negatives of current strategy\n",
        "2. Food has become a huge one that I'm not able to follow to many confusion. There are times where there is no body to eat with and I'm hungry. Or I start the day with eating food and some time out of animal instincts go for the worst food such as office breakfast, chips, costco pizza, indian restaurant, uber eats, drive thru chickfila. Whole day goes in what to eat and worrying about that instead of really doing the most impartant task 6 hour focus study and work. After eating shit food it really screws all the progress not just for the day but also for future days and it is the trigger for the animal instincts to take over once I surrender to to food craving. Need to make the food rule simple enough to follow such that it doesent hamper other key tasks progress.\n",
        "\n",
        "**FROM:** MNF_SLW_Streaks to achieve QUADS\n",
        "\n",
        "Manage Blockers to achieve QUAD goal\n",
        "1.   Media - Document every audio and video consumed.\n",
        "  * Audiobooks\n",
        "  *Active learning videos only.\n",
        "  * Media forwarded by friends and family\n",
        "2.   Norp - Daily jalaka only\n",
        "3.   Food -\n",
        "  * **Whom?** Never eat alone.\n",
        "  * **What?** Never eat processed food. TIP: Eat organic and wholefood only. Biased heavily (99%) towards plant based food.\n",
        "  * **Where?** Biased heavily towards homecooked food (99%).Outside food only with friends and while traveling. But should still meet **Whom and What**\n",
        "  * **When?** 12PM to 1PM eating window. Rest of the time water.\n",
        "  * **Why?** For good nutrition to long healthy life. Not for indulgence, staisfying craving or stress eating.\n",
        "  * **How?** Max 2 meals and a snack. Initiatie dinner only, other meal and snack have only if others invite. TIP: If hungry do vipassana, intermittent fasting and drink water. Be mindful while eating. Focus on the food and the people with you.\n",
        "\n",
        "Promote Boosters to achieve Quad Goal\n",
        "1. Sleep - 7 hours without any gadget except iwatch from 9:30 PM to 4:30 AM\n",
        "2. Learn - 6 hours with vipassana focus\n",
        "3. Walk -  10,000 steps\n",
        "\n",
        "**TO:** Sequence_MNF_SLW_Streaks to achieve QUADS\n",
        "\n",
        "1. Sleep - 7 hours without any gadget except iwatch. Biased towards sleep early get up early 9:30 PM to 4:30 AM\n",
        "2. Learn - 6 hours with vipassana focus\n",
        "3. Walk - After Learn. 10,000 steps.\n",
        "4. Norp - After Walk. Daily jalaka only\n",
        "5. Food - After Walk.\n",
        "  * Biased towards Organic WholeFood, Fruits & Vegetables, HomeCooked,\n",
        "  * 3 litres of water, No processed food, Restaurant food only with friends and while traveling\n",
        "  * Biased towards OMAD. Max three eating sessions in a day.\n",
        "  * Biased towards having food with someone, worst case with Media following the guidelines\n",
        "6. Media - After Learn. Document every audio and video consumed.\n",
        "  * Audiobooks, Active learning Videos, and Media forwarded by friends and family\n",
        "  \n",
        "*The new plan is designed so that I can succesfully complete all the tasks to achieve my Quad goal daily addressing all the negatives of previous approach such as *\n",
        "* 1  * without stressing about day having activities that was not planned earlier *\n",
        "* 2 *Getting irritated with friends and family if they don't follow schedule*\n",
        "* 3 *How to cope eating disorder  making sure it doesn't hurt the progress*\n",
        "* 4 *Making sure things are prioiritzesd and sequenced such that lower priority activities don't overtake the highes prioirty ones*"
      ],
      "metadata": {
        "id": "gjCxtKQG1DU3"
      }
    },
    {
      "cell_type": "markdown",
      "source": [
        "**July 17, 2024**\n",
        "1. Media ✅:\n",
        "  * Audiobook: How Google Works Book by Eric Schmidt and Jonathan Rosenberg\n",
        "  * Duolingo: Chinese\n",
        "  * Wathced youtube:\n",
        "    * [ANI podcast with Smita prakash with Ola founder](https://youtu.be/PF6diktdNNE?si=xTNOD_54k6NT6tAT)\n",
        "    * Random stupid YT shorts\n",
        "      * @trendingHacks50: 21 shorts\n",
        "      * @reelin532: 2 shorts\n",
        "      * @radiointernational: 1 shorts\n",
        "      * @TheWorldsGreatestRoofer: 1 shorts\n",
        "      * @MaR_Leh: 2 shorts\n",
        "      * @kanupriya1707: 6 shorts\n",
        "      * @swiftiekey.com_: 1 shorts\n",
        "      * @SofiManassyan: 41 shorts\n",
        "      * @CelineDept: 35 shorts\n",
        "    * Standup comedy:\n",
        "        * Gaurav kapoors videos [Vid1](https://youtu.be/tVHeXfLKp2g?si=HO-5jrtkJiiwmpjB), [Vid2](https://youtu.be/CuWQ_8Qk9fs?si=oEKLKU4ecrm0o9jR)\n",
        "        * Mohit Morani's [video](https://youtu.be/VnZUlu2gWMs?si=uzoZBFicS66VrFxv)\n",
        "    * ABC7 news injured bay area hiker [video](https://youtu.be/QrhhWItw9_g?si=7wr19j3d8FnREqxl)\n",
        "    * Niladri kumar performance Ambani vedding Modi applause [video](https://youtu.be/IUWEeCvxtvs?si=V_DnlhyNG42YmoOl)\n",
        "    * Fire fighter breaks car window [Inside edition](https://youtu.be/vxeed7y6ohY?si=DOBALGPCGvP-2Lw1)\n",
        "    * Anuj Pachhel's why neet and jee toppers are bullied [video](https://youtu.be/x-2Zt1EE15Q?si=4JHc12UAO7vJtyKD)\n",
        "    * Brut India [Vid1 IAS officer](https://youtu.be/6PAr0RgSFzE?si=5582ZmqEp12sx-32) and [Vid2 Student reddit confession](https://youtu.be/rYb4JNGShOM?si=V4oBgHqyjBv36qZX)\n",
        "2. Norp ✅: Took jalaka at noon\n",
        "3. Food 🔴:\n",
        "  * Horrible day for food: With all the shit videos watching ate 3 meals\n",
        "  * Ate a lot of snacks: moong dal, chana dal, dry fruits\n",
        "  * Had a huge craving to order, had lost control almost: But because of this documentation approach some how managed to convinve myself to shop at Costco and alteast finish that task if I'm not able to study. So got 2 slice of pizza and hotdog. So this saved the day from getting even more shittier.\n",
        "  * This also spoiled the way I went to sleep was so out of control took my phone to sleep watching youtube podcasts, had a really bad sleep start for the next day\n",
        "___\n",
        "1. Sleep ✅:\n",
        "  * slept for 9 hours\n",
        "2. Learn ✅:\n",
        "  * Did study for 6 hours\n",
        "3. Walk ✅: Walked with wife and son and later alone to complete 10K"
      ],
      "metadata": {
        "id": "MVYsw4VyuJH-"
      }
    },
    {
      "cell_type": "markdown",
      "source": [
        "**July 16, 2024**\n",
        "1. Media 🔴:\n",
        "  * Audiobook: How Google Works Book by Eric Schmidt and Jonathan Rosenberg\n",
        "  * Watched [TWIST on youtube](https://youtu.be/Mn45G7Ex9PU?si=1L1MzH6wYBUka2G0)\n",
        "  * Duolingo: Chinese\n",
        "2. Norp ✅: Took jalaka at noon\n",
        "3. Food 🔴:\n",
        "  * Broke the rule: Ate food at noon watching TWIST and started justfying that is a good thing\n",
        "___\n",
        "1. Sleep ✅:\n",
        "  * slept for 9 hours\n",
        "2. Learn ✅:\n",
        "  * Did study for 6 hours\n",
        "3. Walk ✅: Walked with wife and son and later alone to complete 10K"
      ],
      "metadata": {
        "id": "9D3pYiKMtIzk"
      }
    },
    {
      "cell_type": "markdown",
      "source": [
        "**July 15, 2024**\n",
        "1. Media ✅:\n",
        "  * Audiobook: How Google Works Book by Eric Schmidt and Jonathan Rosenberg\n",
        "  * Duolingo: Chinese and Spanish.\n",
        "\n",
        "2. Norp ✅: Took jalaka after cleaning house, after coming back from Fedex and Puranpoli restaurant at 8PM\n",
        "3. Food 🔴:\n",
        "  * Broke the rule: Ate nonnies and coffe in the morning after getting up alone.\n",
        "  * Broke the rule: Went to office had breakfast and coffee alone and the carb processed food heavy. Really added huge barrier to effective study\n",
        "  * Broke the rule: After starting the day bad went twards downward spiral with heavy salad lunch with potato chips.\n",
        "  * Went to Fedex with wife and son , later ended up going out to eat and ate misal pav and vada pav. The whole day was junk. So finally forced me to reform food habit.\n",
        "\n",
        "___\n",
        "1. Sleep ✅:\n",
        "  * slept for 7 hours plus. Started sleeping early and getting up early after 7 hours and going to sleep without gadget reallly worked well\n",
        "2. Learn 🟠: Did 6 hours but need to be more focused.\n",
        "  * Correcting few errors to make this MNF_SLW streak longer, like going to sleep without gadget and sleep time to make sure get up early\n",
        "  * Sleeping early to start the good habit\n",
        "3. Walk ✅: Walked along with Duolingo to come first in the leader board gold that was ending today"
      ],
      "metadata": {
        "id": "NdIsP3rJq_22"
      }
    },
    {
      "cell_type": "markdown",
      "source": [
        "**July 14, 2024**\n",
        "1. Media ✅:\n",
        "  * Audiobook: How Google Works Book by Eric Schmidt and Jonathan Rosenberg\n",
        "  * Duolingo: Chinese and Spanish. Did for hours to come first in leaderboard\n",
        "  * Saw a few short videos less than a min by mistake in linkedin.\n",
        "\n",
        "2. Norp ✅: Took jalaka after cleaning house and walking\n",
        "3. Food ✅:\n",
        "  * cleaned the kitchen and had Lunch: ate boiled rice, pickle, curd, dal, tea, moong dal snack, Nonnies thins with wife and son\n",
        "  * Had coconut water with wife and son\n",
        "\n",
        "___\n",
        "1. Sleep ✅:\n",
        "  * slept for 7 hours plus, started sleep\n",
        "2. Learn 🟠:\n",
        "  * Correcting few errors to make this MNF_SLW streak longer, like going to sleep without gadget and sleep time to make sure get up early\n",
        "  * Sleeping early to start the good habit\n",
        "3. Walk ✅: Walked along with Duolingo to come first in the leader board gold that was ending today"
      ],
      "metadata": {
        "id": "idOa1BXOHAmg"
      }
    },
    {
      "cell_type": "markdown",
      "source": [
        "**July 13, 2024**\n",
        "1. Media 🟠:\n",
        "  * Audiobook: How Google Works Book by Eric Schmidt and Jonathan Rosenberg\n",
        "  * Duolingo: Chinese and Spanish\n",
        "  * Saw few videos on Amazon to by walker and head fall protector for Rishiv\n",
        "  * [Saw Full All In Episode 187 ](https://www.youtube.com/watch?v=w30WLkNU47g&ab_channel=All-InPodcast)\n",
        "  * Saw frist few minutes of [All In Interview](https://www.youtube.com/watch?v=-l2TdinWoM8&ab_channel=All-InPodcast)\n",
        "  * Watched two to three less than 5 mins videos of Trump incident news\n",
        "  * Watched popular videos of Sammy Obeid stand up comedian on youtube late night instead of sleeping. Regret it don't repeat. Don't take gadget to bedroom. fro, today.\n",
        "  * Attended RV Alumni Connect is Computer History Museum. Anil Kumble was the guest. Met many friends from 2012 batch and also got to see the huge Alumni crowd.\n",
        "  * Watched and shared few videos of Baby first time in the swimming pool.\n",
        "  * Watched video of a cyprus youtuber who won election in Cyprus\n",
        "\n",
        "2. Norp ✅:\n",
        "3. Food ✅:\n",
        "  * Cooked potatoes and beand sabji for my wife\n",
        "  * Ate with my engeneering college friends at RVCE alumni connect\n",
        "  * Came back and had lichi, mango and milk with turmeric with my wife and son\n",
        "\n",
        "___\n",
        "1. Sleep ✅:\n",
        "  * slept for 7 hours plus but started to sleep badly by watching some YT videos. Have had bad habits of wathcing videos and audio on bed until fallen asleep. ending it today.\n",
        "2. Learn 🟠:\n",
        "  * Could only do 1 hour since wokeup late and in the eveing had to attend Anil Kumble gues RVCE alumni connect event\n",
        "3. Walk 🟠: Walked very few steps"
      ],
      "metadata": {
        "id": "FeEm69o0--9H"
      }
    },
    {
      "cell_type": "markdown",
      "source": [
        "**July 12, 2024**\n",
        "1. Media ✅:\n",
        "  * Audiobook: How Google Works Book by Eric Schmidt and Jonathan Rosenberg\n",
        "  * Duolingo: Chinese and Spanish\n",
        "  * Saw few videos on Amazon to by walker and head fall protector for Rishiv\n",
        "  * [Saw Full All In Episode 187 ](https://www.youtube.com/watch?v=w30WLkNU47g&ab_channel=All-InPodcast)\n",
        "  * Saw frist few minutes of [All In Interview](https://www.youtube.com/watch?v=-l2TdinWoM8&ab_channel=All-InPodcast)\n",
        "2. Norp :\n",
        "3. Food ✅:\n",
        "  * Breakfast: Tea, Avocado toast with wife and son.\n",
        "  * Dinner with Ranjita and Son: Dal, egg fried rice, curd, sauce, dry nuts, coconut water, tea and ground nut\n",
        "\n",
        "___\n",
        "1. Sleep ✅:\n",
        "  * Slept at 3 AM and woke up at 9 AM.\n",
        "  * Took 15 minute nap from 10:30 AM to 10L45 AM\n",
        "2. Learn ✅:\n",
        "  * Did 4 hours in office and 2 hors at home\n",
        "3. Walk ✅: Walked more than 12K today"
      ],
      "metadata": {
        "id": "CX04F9q6eZG4"
      }
    },
    {
      "cell_type": "markdown",
      "source": [
        "**July 11, 2024**\n",
        "1. Media ✅:\n",
        "  * Audiobook: Started: How Google Works Book by Eric Schmidt and Jonathan Rosenberg\n",
        "  * Duolingo: Chinese and Spanish\n",
        "2. Norp ✅: Took bath late at 2:30 AM .|.\n",
        "3. Food ✅:\n",
        "  * Breakfast Avocado toast with wife and son.\n",
        "  * 1PM lunch: customized Dindigal's mutton sukha, curd and boiled rice\n",
        "  * 6PM Maggi and jeera coffee\n",
        "  * 10:30 PM Dinner: Shezwan fried rice, curd and boiled rice\n",
        "___\n",
        "1. Sleep ✅: Slept at 1 AM and woke up at 9 AM\n",
        "2. Learn ✅: Struggled to sit but completed 6 hours by 2:30 AM\n",
        "  * completed working on year end summary form summarizing my work at company\n",
        "3. Walk ✅: Night 9:30 PM"
      ],
      "metadata": {
        "id": "FmAEVPPoQAl0"
      }
    },
    {
      "cell_type": "markdown",
      "source": [
        "**July 10, 2024**\n",
        "1. Media ✅:\n",
        "  * Audio book: Completed: Amazon Unbound: Jeff Bezos and the Invention of a Global Empire\n",
        "  * Audiobook: Started: Einstein: His Life and Universe by Walter Isaacson\n",
        "  * Duolingo: Chinese and Spanish\n",
        "2. Norp ✅: Took bath late in the evening 8AM after birthday celebration .|.\n",
        "3. Food ✅:\n",
        "  * Breakfast Avocado toast with wife and son.\n",
        "  * 5PM lunch potatoe and asparagus fry and boiled rice curd. Ate with wife and son\n",
        "  * 9:30 PM Dinner: Wife's birthday ordered from outside. Chicken lollypop, Shezwan fried rice, boiled rice curd and mutton sukha\n",
        "___\n",
        "1. Sleep ✅: Slept at 3:00 AM and woke up at 10:00 AM\n",
        "2. Learn 🟠:\n",
        "  * working on year end summary form summarizing my work at company\n",
        "3. Walk ✅: Walked 12PM when the baby was sleeping\n",
        "\n",
        "\n",
        "\n",
        "\n",
        "\n",
        "\n",
        "\n",
        "\n"
      ],
      "metadata": {
        "id": "P9X8z6uLSj-s"
      }
    },
    {
      "cell_type": "markdown",
      "source": [
        "**July 9, 2024**\n",
        "1. Media ✅:\n",
        "  * Audio book: Amazon Unbound: Jeff Bezos and the Invention of a Global Empire\n",
        "  * YT: Akyan: One handed ✋🏻 shoe 👟 lace tying on Youtube\n",
        "  * Duolingo: Chinese and Spanish\n",
        "2. Norp ✅: Took bath late in the night 2AM after birthday celebration .|.\n",
        "3. Food ✅:\n",
        "  * Breakfast Avocado toast with wife and son.\n",
        "  * Banana Dates milkshake and Nonnies Nonni's THINaddictives Almond Thin Cookies with wife and son.\n",
        "  * Dinner: Chicken sukha, Egg Burji, Beans Mushroom, Boiled Rice, Curd, Mint chutney with wife and son. Dates with cashew and almond inside\n",
        "  * Celebrated Wife's birthday, midnight cake cutting and pringles\n",
        "___\n",
        "1. Sleep ✅: Slept at 1:30 AM and woke up at 8:30 AM\n",
        "2. Learn ✅:\n",
        "  * Nannie was there and could study. Setup colab notebook to document MNF_SLW to achieve QUAD goals\n",
        "3. Walk ✅: Evening walk before dinner\n",
        "\n",
        "\n"
      ],
      "metadata": {
        "id": "_vPZeDQ-qv5C"
      }
    }
  ]
}